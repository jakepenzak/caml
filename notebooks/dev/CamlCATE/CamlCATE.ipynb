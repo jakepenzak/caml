{
 "cells": [
  {
   "cell_type": "markdown",
   "metadata": {},
   "source": [
    "# Caml API Usage"
   ]
  },
  {
   "cell_type": "code",
   "execution_count": 1,
   "metadata": {},
   "outputs": [],
   "source": [
    "%load_ext autoreload\n",
    "%autoreload 2"
   ]
  },
  {
   "cell_type": "code",
   "execution_count": 2,
   "metadata": {},
   "outputs": [],
   "source": [
    "import os\n",
    "import sys\n",
    "\n",
    "os.environ[\"PYSPARK_PYTHON\"] = sys.executable\n",
    "os.environ[\"PYSPARK_DRIVER_PYTHON\"] = sys.executable\n",
    "\n",
    "datasets = [\n",
    "    \"partially_linear_simple\",\n",
    "    \"fully_heterogenous\",\n",
    "    \"partially_linear_constant\",\n",
    "    \"dowhy_linear\",\n",
    "]\n",
    "backends = [\"pandas\", \"pyspark\", \"polars\"]\n",
    "\n",
    "df_backend = backends[0]\n",
    "dataset = datasets[3]"
   ]
  },
  {
   "cell_type": "markdown",
   "metadata": {},
   "source": [
    "## Synthetic Data"
   ]
  },
  {
   "cell_type": "code",
   "execution_count": 3,
   "metadata": {},
   "outputs": [],
   "source": [
    "from caml.extensions.synthetic_data import (\n",
    "    make_partially_linear_dataset_simple,\n",
    "    make_fully_heterogeneous_dataset,\n",
    "    make_partially_linear_dataset_constant,\n",
    "    make_dowhy_linear_dataset,\n",
    ")\n",
    "\n",
    "if dataset == \"partially_linear_simple\":\n",
    "    df, true_cates, true_ate = make_partially_linear_dataset_simple(\n",
    "        n_obs=5000,\n",
    "        n_confounders=5,\n",
    "        dim_heterogeneity=2,\n",
    "        binary_treatment=True,\n",
    "        seed=None,\n",
    "    )\n",
    "    df[\"true_cates\"] = true_cates\n",
    "elif dataset == \"fully_heterogenous\":\n",
    "    df, true_cates, true_ate = make_fully_heterogeneous_dataset(\n",
    "        n_obs=10_000,\n",
    "        n_confounders=10,\n",
    "        theta=4.0,\n",
    "        seed=None,\n",
    "    )\n",
    "    df[\"true_cates\"] = true_cates\n",
    "elif dataset == \"partially_linear_constant\":\n",
    "    df, true_cates, true_ate = make_partially_linear_dataset_constant(\n",
    "        n_obs=5000,\n",
    "        ate=4.0,\n",
    "        n_confounders=5,\n",
    "        dgp=\"make_plr_CCDDHNR2018\",  # make_plr_turrell2018\n",
    "        seed=None,\n",
    "    )\n",
    "    df[\"true_cates\"] = true_cates\n",
    "elif dataset == \"dowhy_linear\":\n",
    "    df, true_cates, true_ate = make_dowhy_linear_dataset(\n",
    "        beta=2.0,\n",
    "        n_obs=10_000,\n",
    "        n_confounders=10,\n",
    "        n_discrete_confounders=3,\n",
    "        n_effect_modifiers=10,\n",
    "        n_discrete_effect_modifiers=3,\n",
    "        n_treatments=1,\n",
    "        binary_treatment=True,\n",
    "        categorical_treatment=False,\n",
    "        binary_outcome=False,\n",
    "        seed=12,\n",
    "    )\n",
    "\n",
    "    for i in range(1, len(true_cates) + 1):\n",
    "        if isinstance(true_cates[f\"d{i}\"], list):\n",
    "            df[f\"true_cate_d{i}_1\"] = true_cates[f\"d{i}\"][0]\n",
    "            df[f\"true_cate_d{i}_2\"] = true_cates[f\"d{i}\"][1]\n",
    "        else:\n",
    "            df[f\"true_cate_d{i}\"] = true_cates[f\"d{i}\"]\n",
    "\n",
    "\n",
    "df[\"uuid\"] = df.index"
   ]
  },
  {
   "cell_type": "code",
   "execution_count": 4,
   "metadata": {},
   "outputs": [],
   "source": [
    "try:\n",
    "    import polars as pl\n",
    "    from pyspark.sql import SparkSession\n",
    "except ImportError:\n",
    "    pass\n",
    "\n",
    "if df_backend == \"polars\":\n",
    "    df = pl.from_pandas(df)\n",
    "    spark = None\n",
    "elif df_backend == \"pandas\":\n",
    "    spark = None\n",
    "    pass\n",
    "elif df_backend == \"pyspark\":\n",
    "    spark = (\n",
    "        SparkSession.builder.master(\"local[1]\")\n",
    "        .appName(\"local-tests\")\n",
    "        .config(\"spark.executor.cores\", \"1\")\n",
    "        .config(\"spark.executor.instances\", \"1\")\n",
    "        .config(\"spark.sql.shuffle.partitions\", \"1\")\n",
    "        .getOrCreate()\n",
    "    )\n",
    "    df = spark.createDataFrame(df)"
   ]
  },
  {
   "cell_type": "code",
   "execution_count": 5,
   "metadata": {},
   "outputs": [
    {
     "data": {
      "text/html": [
       "<div>\n",
       "<style scoped>\n",
       "    .dataframe tbody tr th:only-of-type {\n",
       "        vertical-align: middle;\n",
       "    }\n",
       "\n",
       "    .dataframe tbody tr th {\n",
       "        vertical-align: top;\n",
       "    }\n",
       "\n",
       "    .dataframe thead th {\n",
       "        text-align: right;\n",
       "    }\n",
       "</style>\n",
       "<table border=\"1\" class=\"dataframe\">\n",
       "  <thead>\n",
       "    <tr style=\"text-align: right;\">\n",
       "      <th></th>\n",
       "      <th>X0</th>\n",
       "      <th>X1</th>\n",
       "      <th>X2</th>\n",
       "      <th>X3</th>\n",
       "      <th>X4</th>\n",
       "      <th>X5</th>\n",
       "      <th>X6</th>\n",
       "      <th>X7</th>\n",
       "      <th>X8</th>\n",
       "      <th>X9</th>\n",
       "      <th>...</th>\n",
       "      <th>W4</th>\n",
       "      <th>W5</th>\n",
       "      <th>W6</th>\n",
       "      <th>W7</th>\n",
       "      <th>W8</th>\n",
       "      <th>W9</th>\n",
       "      <th>d1</th>\n",
       "      <th>y</th>\n",
       "      <th>true_cate_d1</th>\n",
       "      <th>uuid</th>\n",
       "    </tr>\n",
       "  </thead>\n",
       "  <tbody>\n",
       "    <tr>\n",
       "      <th>0</th>\n",
       "      <td>0.860128</td>\n",
       "      <td>1.263800</td>\n",
       "      <td>-1.621480</td>\n",
       "      <td>-1.243014</td>\n",
       "      <td>0.119318</td>\n",
       "      <td>0.138299</td>\n",
       "      <td>-2.190976</td>\n",
       "      <td>3</td>\n",
       "      <td>0</td>\n",
       "      <td>2</td>\n",
       "      <td>...</td>\n",
       "      <td>-1.777832</td>\n",
       "      <td>3.709313</td>\n",
       "      <td>0.203607</td>\n",
       "      <td>2</td>\n",
       "      <td>3</td>\n",
       "      <td>0</td>\n",
       "      <td>True</td>\n",
       "      <td>4.197980</td>\n",
       "      <td>0.793035</td>\n",
       "      <td>0</td>\n",
       "    </tr>\n",
       "    <tr>\n",
       "      <th>1</th>\n",
       "      <td>0.085828</td>\n",
       "      <td>-0.258028</td>\n",
       "      <td>0.648743</td>\n",
       "      <td>-1.045765</td>\n",
       "      <td>-0.128647</td>\n",
       "      <td>0.435518</td>\n",
       "      <td>0.108749</td>\n",
       "      <td>3</td>\n",
       "      <td>0</td>\n",
       "      <td>2</td>\n",
       "      <td>...</td>\n",
       "      <td>-2.000380</td>\n",
       "      <td>2.047290</td>\n",
       "      <td>1.303302</td>\n",
       "      <td>2</td>\n",
       "      <td>2</td>\n",
       "      <td>2</td>\n",
       "      <td>True</td>\n",
       "      <td>8.774372</td>\n",
       "      <td>5.340261</td>\n",
       "      <td>1</td>\n",
       "    </tr>\n",
       "    <tr>\n",
       "      <th>2</th>\n",
       "      <td>1.077397</td>\n",
       "      <td>-0.389245</td>\n",
       "      <td>0.503995</td>\n",
       "      <td>-1.182757</td>\n",
       "      <td>-1.419884</td>\n",
       "      <td>1.466198</td>\n",
       "      <td>-1.111965</td>\n",
       "      <td>3</td>\n",
       "      <td>3</td>\n",
       "      <td>2</td>\n",
       "      <td>...</td>\n",
       "      <td>-3.189385</td>\n",
       "      <td>0.190063</td>\n",
       "      <td>0.273025</td>\n",
       "      <td>1</td>\n",
       "      <td>2</td>\n",
       "      <td>1</td>\n",
       "      <td>False</td>\n",
       "      <td>-6.610495</td>\n",
       "      <td>7.983276</td>\n",
       "      <td>2</td>\n",
       "    </tr>\n",
       "    <tr>\n",
       "      <th>3</th>\n",
       "      <td>1.864333</td>\n",
       "      <td>0.424140</td>\n",
       "      <td>0.705238</td>\n",
       "      <td>1.087511</td>\n",
       "      <td>-0.978616</td>\n",
       "      <td>1.553906</td>\n",
       "      <td>-1.056368</td>\n",
       "      <td>1</td>\n",
       "      <td>3</td>\n",
       "      <td>0</td>\n",
       "      <td>...</td>\n",
       "      <td>-0.935434</td>\n",
       "      <td>0.159549</td>\n",
       "      <td>0.229549</td>\n",
       "      <td>1</td>\n",
       "      <td>3</td>\n",
       "      <td>2</td>\n",
       "      <td>True</td>\n",
       "      <td>8.211690</td>\n",
       "      <td>10.040109</td>\n",
       "      <td>3</td>\n",
       "    </tr>\n",
       "    <tr>\n",
       "      <th>4</th>\n",
       "      <td>0.042030</td>\n",
       "      <td>-2.178140</td>\n",
       "      <td>0.773407</td>\n",
       "      <td>-1.260931</td>\n",
       "      <td>0.600929</td>\n",
       "      <td>0.659652</td>\n",
       "      <td>-0.311650</td>\n",
       "      <td>0</td>\n",
       "      <td>3</td>\n",
       "      <td>0</td>\n",
       "      <td>...</td>\n",
       "      <td>-4.118267</td>\n",
       "      <td>1.372630</td>\n",
       "      <td>1.033920</td>\n",
       "      <td>3</td>\n",
       "      <td>0</td>\n",
       "      <td>3</td>\n",
       "      <td>True</td>\n",
       "      <td>3.598249</td>\n",
       "      <td>4.030683</td>\n",
       "      <td>4</td>\n",
       "    </tr>\n",
       "    <tr>\n",
       "      <th>...</th>\n",
       "      <td>...</td>\n",
       "      <td>...</td>\n",
       "      <td>...</td>\n",
       "      <td>...</td>\n",
       "      <td>...</td>\n",
       "      <td>...</td>\n",
       "      <td>...</td>\n",
       "      <td>...</td>\n",
       "      <td>...</td>\n",
       "      <td>...</td>\n",
       "      <td>...</td>\n",
       "      <td>...</td>\n",
       "      <td>...</td>\n",
       "      <td>...</td>\n",
       "      <td>...</td>\n",
       "      <td>...</td>\n",
       "      <td>...</td>\n",
       "      <td>...</td>\n",
       "      <td>...</td>\n",
       "      <td>...</td>\n",
       "      <td>...</td>\n",
       "    </tr>\n",
       "    <tr>\n",
       "      <th>9995</th>\n",
       "      <td>1.173214</td>\n",
       "      <td>1.718103</td>\n",
       "      <td>0.527236</td>\n",
       "      <td>-0.833312</td>\n",
       "      <td>0.857061</td>\n",
       "      <td>-0.963238</td>\n",
       "      <td>-0.802704</td>\n",
       "      <td>0</td>\n",
       "      <td>2</td>\n",
       "      <td>2</td>\n",
       "      <td>...</td>\n",
       "      <td>1.446361</td>\n",
       "      <td>0.877547</td>\n",
       "      <td>0.160547</td>\n",
       "      <td>0</td>\n",
       "      <td>1</td>\n",
       "      <td>1</td>\n",
       "      <td>True</td>\n",
       "      <td>10.896206</td>\n",
       "      <td>6.942622</td>\n",
       "      <td>9995</td>\n",
       "    </tr>\n",
       "    <tr>\n",
       "      <th>9996</th>\n",
       "      <td>0.916397</td>\n",
       "      <td>0.691821</td>\n",
       "      <td>0.512401</td>\n",
       "      <td>-0.098800</td>\n",
       "      <td>-0.721480</td>\n",
       "      <td>0.789828</td>\n",
       "      <td>0.042103</td>\n",
       "      <td>2</td>\n",
       "      <td>2</td>\n",
       "      <td>2</td>\n",
       "      <td>...</td>\n",
       "      <td>-1.341384</td>\n",
       "      <td>-0.574287</td>\n",
       "      <td>2.923056</td>\n",
       "      <td>2</td>\n",
       "      <td>2</td>\n",
       "      <td>1</td>\n",
       "      <td>True</td>\n",
       "      <td>10.268397</td>\n",
       "      <td>9.750975</td>\n",
       "      <td>9996</td>\n",
       "    </tr>\n",
       "    <tr>\n",
       "      <th>9997</th>\n",
       "      <td>3.512478</td>\n",
       "      <td>-0.894800</td>\n",
       "      <td>1.119166</td>\n",
       "      <td>-1.482994</td>\n",
       "      <td>-1.278946</td>\n",
       "      <td>-0.029847</td>\n",
       "      <td>-0.221000</td>\n",
       "      <td>3</td>\n",
       "      <td>3</td>\n",
       "      <td>2</td>\n",
       "      <td>...</td>\n",
       "      <td>-1.698003</td>\n",
       "      <td>1.961363</td>\n",
       "      <td>0.020335</td>\n",
       "      <td>2</td>\n",
       "      <td>1</td>\n",
       "      <td>2</td>\n",
       "      <td>True</td>\n",
       "      <td>11.488667</td>\n",
       "      <td>11.082038</td>\n",
       "      <td>9997</td>\n",
       "    </tr>\n",
       "    <tr>\n",
       "      <th>9998</th>\n",
       "      <td>0.615903</td>\n",
       "      <td>1.969203</td>\n",
       "      <td>0.407985</td>\n",
       "      <td>0.945009</td>\n",
       "      <td>0.580888</td>\n",
       "      <td>0.783290</td>\n",
       "      <td>-1.168335</td>\n",
       "      <td>1</td>\n",
       "      <td>3</td>\n",
       "      <td>2</td>\n",
       "      <td>...</td>\n",
       "      <td>-2.156037</td>\n",
       "      <td>1.078907</td>\n",
       "      <td>1.013377</td>\n",
       "      <td>2</td>\n",
       "      <td>0</td>\n",
       "      <td>3</td>\n",
       "      <td>True</td>\n",
       "      <td>12.162188</td>\n",
       "      <td>11.152002</td>\n",
       "      <td>9998</td>\n",
       "    </tr>\n",
       "    <tr>\n",
       "      <th>9999</th>\n",
       "      <td>0.858440</td>\n",
       "      <td>0.199468</td>\n",
       "      <td>1.723768</td>\n",
       "      <td>-1.405161</td>\n",
       "      <td>-0.082894</td>\n",
       "      <td>-1.798955</td>\n",
       "      <td>-1.702678</td>\n",
       "      <td>2</td>\n",
       "      <td>2</td>\n",
       "      <td>1</td>\n",
       "      <td>...</td>\n",
       "      <td>-1.996489</td>\n",
       "      <td>0.676400</td>\n",
       "      <td>1.498534</td>\n",
       "      <td>3</td>\n",
       "      <td>0</td>\n",
       "      <td>3</td>\n",
       "      <td>True</td>\n",
       "      <td>2.904599</td>\n",
       "      <td>3.363482</td>\n",
       "      <td>9999</td>\n",
       "    </tr>\n",
       "  </tbody>\n",
       "</table>\n",
       "<p>10000 rows × 24 columns</p>\n",
       "</div>"
      ],
      "text/plain": [
       "            X0        X1        X2        X3        X4        X5        X6 X7  \\\n",
       "0     0.860128  1.263800 -1.621480 -1.243014  0.119318  0.138299 -2.190976  3   \n",
       "1     0.085828 -0.258028  0.648743 -1.045765 -0.128647  0.435518  0.108749  3   \n",
       "2     1.077397 -0.389245  0.503995 -1.182757 -1.419884  1.466198 -1.111965  3   \n",
       "3     1.864333  0.424140  0.705238  1.087511 -0.978616  1.553906 -1.056368  1   \n",
       "4     0.042030 -2.178140  0.773407 -1.260931  0.600929  0.659652 -0.311650  0   \n",
       "...        ...       ...       ...       ...       ...       ...       ... ..   \n",
       "9995  1.173214  1.718103  0.527236 -0.833312  0.857061 -0.963238 -0.802704  0   \n",
       "9996  0.916397  0.691821  0.512401 -0.098800 -0.721480  0.789828  0.042103  2   \n",
       "9997  3.512478 -0.894800  1.119166 -1.482994 -1.278946 -0.029847 -0.221000  3   \n",
       "9998  0.615903  1.969203  0.407985  0.945009  0.580888  0.783290 -1.168335  1   \n",
       "9999  0.858440  0.199468  1.723768 -1.405161 -0.082894 -1.798955 -1.702678  2   \n",
       "\n",
       "     X8 X9  ...        W4        W5        W6  W7  W8  W9     d1          y  \\\n",
       "0     0  2  ... -1.777832  3.709313  0.203607   2   3   0   True   4.197980   \n",
       "1     0  2  ... -2.000380  2.047290  1.303302   2   2   2   True   8.774372   \n",
       "2     3  2  ... -3.189385  0.190063  0.273025   1   2   1  False  -6.610495   \n",
       "3     3  0  ... -0.935434  0.159549  0.229549   1   3   2   True   8.211690   \n",
       "4     3  0  ... -4.118267  1.372630  1.033920   3   0   3   True   3.598249   \n",
       "...  .. ..  ...       ...       ...       ...  ..  ..  ..    ...        ...   \n",
       "9995  2  2  ...  1.446361  0.877547  0.160547   0   1   1   True  10.896206   \n",
       "9996  2  2  ... -1.341384 -0.574287  2.923056   2   2   1   True  10.268397   \n",
       "9997  3  2  ... -1.698003  1.961363  0.020335   2   1   2   True  11.488667   \n",
       "9998  3  2  ... -2.156037  1.078907  1.013377   2   0   3   True  12.162188   \n",
       "9999  2  1  ... -1.996489  0.676400  1.498534   3   0   3   True   2.904599   \n",
       "\n",
       "     true_cate_d1  uuid  \n",
       "0        0.793035     0  \n",
       "1        5.340261     1  \n",
       "2        7.983276     2  \n",
       "3       10.040109     3  \n",
       "4        4.030683     4  \n",
       "...           ...   ...  \n",
       "9995     6.942622  9995  \n",
       "9996     9.750975  9996  \n",
       "9997    11.082038  9997  \n",
       "9998    11.152002  9998  \n",
       "9999     3.363482  9999  \n",
       "\n",
       "[10000 rows x 24 columns]"
      ]
     },
     "execution_count": 5,
     "metadata": {},
     "output_type": "execute_result"
    }
   ],
   "source": [
    "df"
   ]
  },
  {
   "cell_type": "code",
   "execution_count": 182,
   "metadata": {},
   "outputs": [
    {
     "data": {
      "text/html": [
       "<div>\n",
       "<style scoped>\n",
       "    .dataframe tbody tr th:only-of-type {\n",
       "        vertical-align: middle;\n",
       "    }\n",
       "\n",
       "    .dataframe tbody tr th {\n",
       "        vertical-align: top;\n",
       "    }\n",
       "\n",
       "    .dataframe thead th {\n",
       "        text-align: right;\n",
       "    }\n",
       "</style>\n",
       "<table border=\"1\" class=\"dataframe\">\n",
       "  <thead>\n",
       "    <tr style=\"text-align: right;\">\n",
       "      <th></th>\n",
       "      <th>W1_continuous</th>\n",
       "      <th>W2_continuous</th>\n",
       "      <th>W1_binary</th>\n",
       "      <th>X1_continuous</th>\n",
       "      <th>X2_continuous</th>\n",
       "      <th>X1_binary</th>\n",
       "      <th>T1_binary</th>\n",
       "      <th>Y1_continuous</th>\n",
       "    </tr>\n",
       "  </thead>\n",
       "  <tbody>\n",
       "    <tr>\n",
       "      <th>0</th>\n",
       "      <td>2.996031</td>\n",
       "      <td>1.833142</td>\n",
       "      <td>1</td>\n",
       "      <td>-2.318365</td>\n",
       "      <td>-0.889071</td>\n",
       "      <td>1</td>\n",
       "      <td>1</td>\n",
       "      <td>5.698096</td>\n",
       "    </tr>\n",
       "    <tr>\n",
       "      <th>1</th>\n",
       "      <td>1.084660</td>\n",
       "      <td>0.811684</td>\n",
       "      <td>0</td>\n",
       "      <td>-3.947338</td>\n",
       "      <td>-4.538094</td>\n",
       "      <td>0</td>\n",
       "      <td>1</td>\n",
       "      <td>-67.510466</td>\n",
       "    </tr>\n",
       "    <tr>\n",
       "      <th>2</th>\n",
       "      <td>1.551872</td>\n",
       "      <td>3.514753</td>\n",
       "      <td>1</td>\n",
       "      <td>-2.712781</td>\n",
       "      <td>-4.356513</td>\n",
       "      <td>0</td>\n",
       "      <td>1</td>\n",
       "      <td>-46.807338</td>\n",
       "    </tr>\n",
       "    <tr>\n",
       "      <th>3</th>\n",
       "      <td>1.488719</td>\n",
       "      <td>1.312660</td>\n",
       "      <td>1</td>\n",
       "      <td>-5.847153</td>\n",
       "      <td>-2.044083</td>\n",
       "      <td>0</td>\n",
       "      <td>1</td>\n",
       "      <td>-3.311405</td>\n",
       "    </tr>\n",
       "    <tr>\n",
       "      <th>4</th>\n",
       "      <td>3.932037</td>\n",
       "      <td>3.688375</td>\n",
       "      <td>1</td>\n",
       "      <td>-3.001796</td>\n",
       "      <td>-3.986808</td>\n",
       "      <td>0</td>\n",
       "      <td>1</td>\n",
       "      <td>-37.739799</td>\n",
       "    </tr>\n",
       "    <tr>\n",
       "      <th>...</th>\n",
       "      <td>...</td>\n",
       "      <td>...</td>\n",
       "      <td>...</td>\n",
       "      <td>...</td>\n",
       "      <td>...</td>\n",
       "      <td>...</td>\n",
       "      <td>...</td>\n",
       "      <td>...</td>\n",
       "    </tr>\n",
       "    <tr>\n",
       "      <th>9995</th>\n",
       "      <td>1.168482</td>\n",
       "      <td>7.503267</td>\n",
       "      <td>0</td>\n",
       "      <td>-4.596117</td>\n",
       "      <td>-2.361790</td>\n",
       "      <td>0</td>\n",
       "      <td>1</td>\n",
       "      <td>94.887914</td>\n",
       "    </tr>\n",
       "    <tr>\n",
       "      <th>9996</th>\n",
       "      <td>4.346783</td>\n",
       "      <td>1.878845</td>\n",
       "      <td>1</td>\n",
       "      <td>-5.297084</td>\n",
       "      <td>-3.215238</td>\n",
       "      <td>0</td>\n",
       "      <td>1</td>\n",
       "      <td>-30.937156</td>\n",
       "    </tr>\n",
       "    <tr>\n",
       "      <th>9997</th>\n",
       "      <td>0.889781</td>\n",
       "      <td>0.231083</td>\n",
       "      <td>1</td>\n",
       "      <td>-5.627272</td>\n",
       "      <td>-2.961529</td>\n",
       "      <td>0</td>\n",
       "      <td>1</td>\n",
       "      <td>-22.289016</td>\n",
       "    </tr>\n",
       "    <tr>\n",
       "      <th>9998</th>\n",
       "      <td>3.790647</td>\n",
       "      <td>0.399154</td>\n",
       "      <td>0</td>\n",
       "      <td>-2.683229</td>\n",
       "      <td>-1.265921</td>\n",
       "      <td>0</td>\n",
       "      <td>0</td>\n",
       "      <td>3.198673</td>\n",
       "    </tr>\n",
       "    <tr>\n",
       "      <th>9999</th>\n",
       "      <td>7.982585</td>\n",
       "      <td>2.975369</td>\n",
       "      <td>0</td>\n",
       "      <td>-5.148575</td>\n",
       "      <td>-3.480906</td>\n",
       "      <td>0</td>\n",
       "      <td>1</td>\n",
       "      <td>-31.013894</td>\n",
       "    </tr>\n",
       "  </tbody>\n",
       "</table>\n",
       "<p>10000 rows × 8 columns</p>\n",
       "</div>"
      ],
      "text/plain": [
       "      W1_continuous  W2_continuous  W1_binary  X1_continuous  X2_continuous  \\\n",
       "0          2.996031       1.833142          1      -2.318365      -0.889071   \n",
       "1          1.084660       0.811684          0      -3.947338      -4.538094   \n",
       "2          1.551872       3.514753          1      -2.712781      -4.356513   \n",
       "3          1.488719       1.312660          1      -5.847153      -2.044083   \n",
       "4          3.932037       3.688375          1      -3.001796      -3.986808   \n",
       "...             ...            ...        ...            ...            ...   \n",
       "9995       1.168482       7.503267          0      -4.596117      -2.361790   \n",
       "9996       4.346783       1.878845          1      -5.297084      -3.215238   \n",
       "9997       0.889781       0.231083          1      -5.627272      -2.961529   \n",
       "9998       3.790647       0.399154          0      -2.683229      -1.265921   \n",
       "9999       7.982585       2.975369          0      -5.148575      -3.480906   \n",
       "\n",
       "      X1_binary  T1_binary  Y1_continuous  \n",
       "0             1          1       5.698096  \n",
       "1             0          1     -67.510466  \n",
       "2             0          1     -46.807338  \n",
       "3             0          1      -3.311405  \n",
       "4             0          1     -37.739799  \n",
       "...         ...        ...            ...  \n",
       "9995          0          1      94.887914  \n",
       "9996          0          1     -30.937156  \n",
       "9997          0          1     -22.289016  \n",
       "9998          0          0       3.198673  \n",
       "9999          0          1     -31.013894  \n",
       "\n",
       "[10000 rows x 8 columns]"
      ]
     },
     "execution_count": 182,
     "metadata": {},
     "output_type": "execute_result"
    }
   ],
   "source": [
    "from caml.extensions.synthetic_data import CamlSyntheticDataGenerator\n",
    "\n",
    "data = CamlSyntheticDataGenerator(n_obs=10_000,\n",
    "                                  n_cont_outcomes=1,\n",
    "                                  n_binary_outcomes=0,\n",
    "                                  n_cont_treatments=0,\n",
    "                                  n_binary_treatments=1,\n",
    "                                  n_discrete_treatments=0,\n",
    "                                  n_cont_confounders=2, \n",
    "                                  n_binary_confounders=1,\n",
    "                                  n_discrete_confounders=0,\n",
    "                                  n_cont_heterogeneity_covariates=2,\n",
    "                                  n_binary_heterogeneity_covariates=1,\n",
    "                                  n_discrete_heterogeneity_covariates=0,\n",
    "                                  n_heterogeneity_confounders=0,\n",
    "                                  stddev_outcome_noise=0,\n",
    "                                  stddev_treatment_noise=0,\n",
    "                                  causal_model_functional_form=\"fully_non_linear\",\n",
    "                                  seed=None)\n",
    "\n",
    "synthetic_df = data.df\n",
    "cate_df = data.cates\n",
    "ate_df = data.ates\n",
    "\n",
    "df = synthetic_df.copy()\n",
    "\n",
    "df"
   ]
  },
  {
   "cell_type": "code",
   "execution_count": 183,
   "metadata": {},
   "outputs": [
    {
     "data": {
      "text/html": [
       "<div>\n",
       "<style scoped>\n",
       "    .dataframe tbody tr th:only-of-type {\n",
       "        vertical-align: middle;\n",
       "    }\n",
       "\n",
       "    .dataframe tbody tr th {\n",
       "        vertical-align: top;\n",
       "    }\n",
       "\n",
       "    .dataframe thead th {\n",
       "        text-align: right;\n",
       "    }\n",
       "</style>\n",
       "<table border=\"1\" class=\"dataframe\">\n",
       "  <thead>\n",
       "    <tr style=\"text-align: right;\">\n",
       "      <th></th>\n",
       "      <th>CATE_of_T1_binary_on_Y1_continuous</th>\n",
       "    </tr>\n",
       "  </thead>\n",
       "  <tbody>\n",
       "    <tr>\n",
       "      <th>0</th>\n",
       "      <td>-7.257272</td>\n",
       "    </tr>\n",
       "    <tr>\n",
       "      <th>1</th>\n",
       "      <td>-17.647557</td>\n",
       "    </tr>\n",
       "    <tr>\n",
       "      <th>2</th>\n",
       "      <td>-17.130521</td>\n",
       "    </tr>\n",
       "    <tr>\n",
       "      <th>3</th>\n",
       "      <td>-10.546072</td>\n",
       "    </tr>\n",
       "    <tr>\n",
       "      <th>4</th>\n",
       "      <td>-16.077816</td>\n",
       "    </tr>\n",
       "    <tr>\n",
       "      <th>...</th>\n",
       "      <td>...</td>\n",
       "    </tr>\n",
       "    <tr>\n",
       "      <th>9995</th>\n",
       "      <td>-11.450715</td>\n",
       "    </tr>\n",
       "    <tr>\n",
       "      <th>9996</th>\n",
       "      <td>-13.880836</td>\n",
       "    </tr>\n",
       "    <tr>\n",
       "      <th>9997</th>\n",
       "      <td>-13.158422</td>\n",
       "    </tr>\n",
       "    <tr>\n",
       "      <th>9998</th>\n",
       "      <td>-8.330320</td>\n",
       "    </tr>\n",
       "    <tr>\n",
       "      <th>9999</th>\n",
       "      <td>-14.637303</td>\n",
       "    </tr>\n",
       "  </tbody>\n",
       "</table>\n",
       "<p>10000 rows × 1 columns</p>\n",
       "</div>"
      ],
      "text/plain": [
       "      CATE_of_T1_binary_on_Y1_continuous\n",
       "0                              -7.257272\n",
       "1                             -17.647557\n",
       "2                             -17.130521\n",
       "3                             -10.546072\n",
       "4                             -16.077816\n",
       "...                                  ...\n",
       "9995                          -11.450715\n",
       "9996                          -13.880836\n",
       "9997                          -13.158422\n",
       "9998                           -8.330320\n",
       "9999                          -14.637303\n",
       "\n",
       "[10000 rows x 1 columns]"
      ]
     },
     "execution_count": 183,
     "metadata": {},
     "output_type": "execute_result"
    }
   ],
   "source": [
    "cate_df"
   ]
  },
  {
   "cell_type": "code",
   "execution_count": 184,
   "metadata": {},
   "outputs": [
    {
     "data": {
      "text/html": [
       "<div>\n",
       "<style scoped>\n",
       "    .dataframe tbody tr th:only-of-type {\n",
       "        vertical-align: middle;\n",
       "    }\n",
       "\n",
       "    .dataframe tbody tr th {\n",
       "        vertical-align: top;\n",
       "    }\n",
       "\n",
       "    .dataframe thead th {\n",
       "        text-align: right;\n",
       "    }\n",
       "</style>\n",
       "<table border=\"1\" class=\"dataframe\">\n",
       "  <thead>\n",
       "    <tr style=\"text-align: right;\">\n",
       "      <th></th>\n",
       "      <th>Treatment</th>\n",
       "      <th>ATE</th>\n",
       "    </tr>\n",
       "  </thead>\n",
       "  <tbody>\n",
       "    <tr>\n",
       "      <th>0</th>\n",
       "      <td>T1_binary_on_Y1_continuous</td>\n",
       "      <td>-13.5267</td>\n",
       "    </tr>\n",
       "  </tbody>\n",
       "</table>\n",
       "</div>"
      ],
      "text/plain": [
       "                    Treatment      ATE\n",
       "0  T1_binary_on_Y1_continuous -13.5267"
      ]
     },
     "execution_count": 184,
     "metadata": {},
     "output_type": "execute_result"
    }
   ],
   "source": [
    "ate_df"
   ]
  },
  {
   "cell_type": "markdown",
   "metadata": {},
   "source": [
    "## Core API"
   ]
  },
  {
   "cell_type": "markdown",
   "metadata": {},
   "source": [
    "### CamlCATE"
   ]
  },
  {
   "cell_type": "markdown",
   "metadata": {},
   "source": [
    "#### Class Instantiation"
   ]
  },
  {
   "cell_type": "code",
   "execution_count": 185,
   "metadata": {},
   "outputs": [
    {
     "data": {
      "text/html": [
       "<pre style=\"white-space:pre;overflow-x:auto;line-height:normal;font-family:Menlo,'DejaVu Sans Mono',consolas,'Courier New',monospace\"><span style=\"color: #7fbfbf; text-decoration-color: #7fbfbf\">[12/15/24 19:53:51] </span><span style=\"color: #008000; text-decoration-color: #008000\">INFO    </span> Logging has been set up.                                                 <a href=\"file:///home/jakep/projects/caml/caml/logging.py\" target=\"_blank\"><span style=\"color: #7f7f7f; text-decoration-color: #7f7f7f\">logging.py</span></a><span style=\"color: #7f7f7f; text-decoration-color: #7f7f7f\">:</span><a href=\"file:///home/jakep/projects/caml/caml/logging.py#51\" target=\"_blank\"><span style=\"color: #7f7f7f; text-decoration-color: #7f7f7f\">51</span></a>\n",
       "</pre>\n"
      ],
      "text/plain": [
       "\u001b[2;36m[12/15/24 19:53:51]\u001b[0m\u001b[2;36m \u001b[0m\u001b[32mINFO    \u001b[0m Logging has been set up.                                                 \u001b]8;id=564215;file:///home/jakep/projects/caml/caml/logging.py\u001b\\\u001b[2mlogging.py\u001b[0m\u001b]8;;\u001b\\\u001b[2m:\u001b[0m\u001b]8;id=63563;file:///home/jakep/projects/caml/caml/logging.py#51\u001b\\\u001b[2m51\u001b[0m\u001b]8;;\u001b\\\n"
      ]
     },
     "metadata": {},
     "output_type": "display_data"
    }
   ],
   "source": [
    "from caml import CamlCATE\n",
    "\n",
    "caml = CamlCATE(\n",
    "    df=df,\n",
    "    Y=\"Y1_continuous\",\n",
    "    T=\"T1_binary\",\n",
    "    X=[c for c in df.columns if \"X\" in c or \"W\" in c],\n",
    "    W=[],\n",
    "    discrete_treatment=True,\n",
    "    discrete_outcome=False,\n",
    "    seed=10,\n",
    "    verbose=1,\n",
    ")"
   ]
  },
  {
   "cell_type": "code",
   "execution_count": 145,
   "metadata": {},
   "outputs": [
    {
     "name": "stdout",
     "output_type": "stream",
     "text": [
      "================== CamlCATE Object ==================\n",
      "Data Backend: pandas\n",
      "No. of Observations: 10,000\n",
      "Outcome Variable: Y1_continuous\n",
      "Discrete Outcome: False\n",
      "Treatment Variable: T1_binary\n",
      "Discrete Treatment: True\n",
      "Features/Confounders for Heterogeneity (X): ['W1_continuous', 'W2_continuous', 'W1_binary', 'X1_continuous', 'X2_continuous', 'X1_binary']\n",
      "Features/Confounders as Controls (W): []\n",
      "Random Seed: 10\n",
      "\n"
     ]
    }
   ],
   "source": [
    "print(caml)"
   ]
  },
  {
   "cell_type": "markdown",
   "metadata": {},
   "source": [
    "#### Nuissance Function AutoML"
   ]
  },
  {
   "cell_type": "code",
   "execution_count": 186,
   "metadata": {},
   "outputs": [
    {
     "name": "stderr",
     "output_type": "stream",
     "text": [
      "The y_pred values do not sum to one. Starting from 1.5 thiswill result in an error.\n",
      "The y_pred values do not sum to one. Starting from 1.5 thiswill result in an error.\n"
     ]
    }
   ],
   "source": [
    "caml.auto_nuisance_functions(\n",
    "    flaml_Y_kwargs={\"time_budget\": 180,\"verbose\":0},\n",
    "    flaml_T_kwargs={\"time_budget\": 180,\"verbose\":0},\n",
    "    use_ray=False,\n",
    "    use_spark=False,\n",
    ")"
   ]
  },
  {
   "cell_type": "markdown",
   "metadata": {},
   "source": [
    "#### Fit and ensemble CATE models"
   ]
  },
  {
   "cell_type": "code",
   "execution_count": 187,
   "metadata": {},
   "outputs": [
    {
     "data": {
      "text/html": [
       "<pre style=\"white-space:pre;overflow-x:auto;line-height:normal;font-family:Menlo,'DejaVu Sans Mono',consolas,'Courier New',monospace\"><span style=\"color: #7fbfbf; text-decoration-color: #7fbfbf\">[12/15/24 20:03:23] </span><span style=\"color: #008000; text-decoration-color: #008000\">INFO    </span> Ensemble Estimator RScore: <span style=\"color: #008080; text-decoration-color: #008080; font-weight: bold\">0.014050860651870445</span>                            <a href=\"file:///home/jakep/projects/caml/caml/core/cate.py\" target=\"_blank\"><span style=\"color: #7f7f7f; text-decoration-color: #7f7f7f\">cate.py</span></a><span style=\"color: #7f7f7f; text-decoration-color: #7f7f7f\">:</span><a href=\"file:///home/jakep/projects/caml/caml/core/cate.py#734\" target=\"_blank\"><span style=\"color: #7f7f7f; text-decoration-color: #7f7f7f\">734</span></a>\n",
       "</pre>\n"
      ],
      "text/plain": [
       "\u001b[2;36m[12/15/24 20:03:23]\u001b[0m\u001b[2;36m \u001b[0m\u001b[32mINFO    \u001b[0m Ensemble Estimator RScore: \u001b[1;36m0.014050860651870445\u001b[0m                            \u001b]8;id=959031;file:///home/jakep/projects/caml/caml/core/cate.py\u001b\\\u001b[2mcate.py\u001b[0m\u001b]8;;\u001b\\\u001b[2m:\u001b[0m\u001b]8;id=842716;file:///home/jakep/projects/caml/caml/core/cate.py#734\u001b\\\u001b[2m734\u001b[0m\u001b]8;;\u001b\\\n"
      ]
     },
     "metadata": {},
     "output_type": "display_data"
    },
    {
     "data": {
      "text/html": [
       "<pre style=\"white-space:pre;overflow-x:auto;line-height:normal;font-family:Menlo,'DejaVu Sans Mono',consolas,'Courier New',monospace\"><span style=\"color: #7fbfbf; text-decoration-color: #7fbfbf\">                    </span><span style=\"color: #008000; text-decoration-color: #008000\">INFO    </span> Inidividual Estimator RScores: <span style=\"font-weight: bold\">{</span><span style=\"color: #008000; text-decoration-color: #008000\">'LinearDML'</span>: <span style=\"color: #008080; text-decoration-color: #008080; font-weight: bold\">0.007861779579292794</span>,         <a href=\"file:///home/jakep/projects/caml/caml/core/cate.py\" target=\"_blank\"><span style=\"color: #7f7f7f; text-decoration-color: #7f7f7f\">cate.py</span></a><span style=\"color: #7f7f7f; text-decoration-color: #7f7f7f\">:</span><a href=\"file:///home/jakep/projects/caml/caml/core/cate.py#735\" target=\"_blank\"><span style=\"color: #7f7f7f; text-decoration-color: #7f7f7f\">735</span></a>\n",
       "<span style=\"color: #7fbfbf; text-decoration-color: #7fbfbf\">                    </span>         <span style=\"color: #008000; text-decoration-color: #008000\">'CausalForestDML'</span>: <span style=\"color: #008080; text-decoration-color: #008080; font-weight: bold\">-0.031287339855830876</span>, <span style=\"color: #008000; text-decoration-color: #008000\">'DRLearner'</span>:                     <span style=\"color: #7f7f7f; text-decoration-color: #7f7f7f\">           </span>\n",
       "<span style=\"color: #7fbfbf; text-decoration-color: #7fbfbf\">                    </span>         <span style=\"color: #008080; text-decoration-color: #008080; font-weight: bold\">-0.2867862880778751</span>, <span style=\"color: #008000; text-decoration-color: #008000\">'ForestDRLearner'</span>: <span style=\"color: #008080; text-decoration-color: #008080; font-weight: bold\">0.006294303165402804</span>,              <span style=\"color: #7f7f7f; text-decoration-color: #7f7f7f\">           </span>\n",
       "<span style=\"color: #7fbfbf; text-decoration-color: #7fbfbf\">                    </span>         <span style=\"color: #008000; text-decoration-color: #008000\">'LinearDRLearner'</span>: <span style=\"color: #008080; text-decoration-color: #008080; font-weight: bold\">0.002985282784290999</span>, <span style=\"color: #008000; text-decoration-color: #008000\">'DomainAdaptationLearner'</span>:        <span style=\"color: #7f7f7f; text-decoration-color: #7f7f7f\">           </span>\n",
       "<span style=\"color: #7fbfbf; text-decoration-color: #7fbfbf\">                    </span>         <span style=\"color: #008080; text-decoration-color: #008080; font-weight: bold\">0.01303776325186179</span>, <span style=\"color: #008000; text-decoration-color: #008000\">'SLearner'</span>: <span style=\"color: #008080; text-decoration-color: #008080; font-weight: bold\">0.009069942656652952</span>, <span style=\"color: #008000; text-decoration-color: #008000\">'TLearner'</span>:         <span style=\"color: #7f7f7f; text-decoration-color: #7f7f7f\">           </span>\n",
       "<span style=\"color: #7fbfbf; text-decoration-color: #7fbfbf\">                    </span>         <span style=\"color: #008080; text-decoration-color: #008080; font-weight: bold\">0.014082149259115773</span>, <span style=\"color: #008000; text-decoration-color: #008000\">'XLearner'</span>: <span style=\"color: #008080; text-decoration-color: #008080; font-weight: bold\">0.008804466717731607</span><span style=\"font-weight: bold\">}</span>                    <span style=\"color: #7f7f7f; text-decoration-color: #7f7f7f\">           </span>\n",
       "</pre>\n"
      ],
      "text/plain": [
       "\u001b[2;36m                   \u001b[0m\u001b[2;36m \u001b[0m\u001b[32mINFO    \u001b[0m Inidividual Estimator RScores: \u001b[1m{\u001b[0m\u001b[32m'LinearDML'\u001b[0m: \u001b[1;36m0.007861779579292794\u001b[0m,         \u001b]8;id=217411;file:///home/jakep/projects/caml/caml/core/cate.py\u001b\\\u001b[2mcate.py\u001b[0m\u001b]8;;\u001b\\\u001b[2m:\u001b[0m\u001b]8;id=277310;file:///home/jakep/projects/caml/caml/core/cate.py#735\u001b\\\u001b[2m735\u001b[0m\u001b]8;;\u001b\\\n",
       "\u001b[2;36m                    \u001b[0m         \u001b[32m'CausalForestDML'\u001b[0m: \u001b[1;36m-0.031287339855830876\u001b[0m, \u001b[32m'DRLearner'\u001b[0m:                     \u001b[2m           \u001b[0m\n",
       "\u001b[2;36m                    \u001b[0m         \u001b[1;36m-0.2867862880778751\u001b[0m, \u001b[32m'ForestDRLearner'\u001b[0m: \u001b[1;36m0.006294303165402804\u001b[0m,              \u001b[2m           \u001b[0m\n",
       "\u001b[2;36m                    \u001b[0m         \u001b[32m'LinearDRLearner'\u001b[0m: \u001b[1;36m0.002985282784290999\u001b[0m, \u001b[32m'DomainAdaptationLearner'\u001b[0m:        \u001b[2m           \u001b[0m\n",
       "\u001b[2;36m                    \u001b[0m         \u001b[1;36m0.01303776325186179\u001b[0m, \u001b[32m'SLearner'\u001b[0m: \u001b[1;36m0.009069942656652952\u001b[0m, \u001b[32m'TLearner'\u001b[0m:         \u001b[2m           \u001b[0m\n",
       "\u001b[2;36m                    \u001b[0m         \u001b[1;36m0.014082149259115773\u001b[0m, \u001b[32m'XLearner'\u001b[0m: \u001b[1;36m0.008804466717731607\u001b[0m\u001b[1m}\u001b[0m                    \u001b[2m           \u001b[0m\n"
      ]
     },
     "metadata": {},
     "output_type": "display_data"
    },
    {
     "data": {
      "text/html": [
       "<pre style=\"white-space:pre;overflow-x:auto;line-height:normal;font-family:Menlo,'DejaVu Sans Mono',consolas,'Courier New',monospace\"><span style=\"color: #7fbfbf; text-decoration-color: #7fbfbf\">                    </span><span style=\"color: #008000; text-decoration-color: #008000\">INFO    </span> The best estimator is greater than the ensemble estimator. Returning that  <a href=\"file:///home/jakep/projects/caml/caml/core/cate.py\" target=\"_blank\"><span style=\"color: #7f7f7f; text-decoration-color: #7f7f7f\">cate.py</span></a><span style=\"color: #7f7f7f; text-decoration-color: #7f7f7f\">:</span><a href=\"file:///home/jakep/projects/caml/caml/core/cate.py#747\" target=\"_blank\"><span style=\"color: #7f7f7f; text-decoration-color: #7f7f7f\">747</span></a>\n",
       "<span style=\"color: #7fbfbf; text-decoration-color: #7fbfbf\">                    </span>         individual estimator: <span style=\"font-weight: bold\">&lt;</span><span style=\"color: #ff00ff; text-decoration-color: #ff00ff; font-weight: bold\">econml.metalearners._metalearners.TLearner</span><span style=\"color: #000000; text-decoration-color: #000000\"> object </span>  <span style=\"color: #7f7f7f; text-decoration-color: #7f7f7f\">           </span>\n",
       "<span style=\"color: #7fbfbf; text-decoration-color: #7fbfbf\">                    </span>         <span style=\"color: #000000; text-decoration-color: #000000\">at </span><span style=\"color: #008080; text-decoration-color: #008080; font-weight: bold\">0x7f15330d6aa0</span><span style=\"font-weight: bold\">&gt;</span>                                                         <span style=\"color: #7f7f7f; text-decoration-color: #7f7f7f\">           </span>\n",
       "</pre>\n"
      ],
      "text/plain": [
       "\u001b[2;36m                   \u001b[0m\u001b[2;36m \u001b[0m\u001b[32mINFO    \u001b[0m The best estimator is greater than the ensemble estimator. Returning that  \u001b]8;id=447966;file:///home/jakep/projects/caml/caml/core/cate.py\u001b\\\u001b[2mcate.py\u001b[0m\u001b]8;;\u001b\\\u001b[2m:\u001b[0m\u001b]8;id=761557;file:///home/jakep/projects/caml/caml/core/cate.py#747\u001b\\\u001b[2m747\u001b[0m\u001b]8;;\u001b\\\n",
       "\u001b[2;36m                    \u001b[0m         individual estimator: \u001b[1m<\u001b[0m\u001b[1;95meconml.metalearners._metalearners.TLearner\u001b[0m\u001b[39m object \u001b[0m  \u001b[2m           \u001b[0m\n",
       "\u001b[2;36m                    \u001b[0m         \u001b[39mat \u001b[0m\u001b[1;36m0x7f15330d6aa0\u001b[0m\u001b[1m>\u001b[0m                                                         \u001b[2m           \u001b[0m\n"
      ]
     },
     "metadata": {},
     "output_type": "display_data"
    }
   ],
   "source": [
    "caml.fit_validator(\n",
    "    subset_cate_models=[\n",
    "        \"LinearDML\",\n",
    "        \"CausalForestDML\",\n",
    "        # \"NonParamDML\",\n",
    "        # \"AutoNonParamDML\",\n",
    "        # \"SparseLinearDML-2D\",\n",
    "        \"DRLearner\",\n",
    "        \"ForestDRLearner\",\n",
    "        \"LinearDRLearner\",\n",
    "        # \"SparseLinearDRLearner-2D\",\n",
    "        \"DomainAdaptationLearner\",\n",
    "        \"SLearner\",\n",
    "        \"TLearner\",\n",
    "        \"XLearner\"\n",
    "    ],\n",
    "    rscorer_kwargs={},\n",
    "    use_ray=False,\n",
    "    ray_remote_func_options_kwargs={},\n",
    "    sample_fraction=1.0,\n",
    "    n_jobs=-1,\n",
    ")"
   ]
  },
  {
   "cell_type": "code",
   "execution_count": 188,
   "metadata": {},
   "outputs": [
    {
     "data": {
      "text/html": [
       "<pre style=\"white-space:pre;overflow-x:auto;line-height:normal;font-family:Menlo,'DejaVu Sans Mono',consolas,'Courier New',monospace\"><span style=\"color: #7fbfbf; text-decoration-color: #7fbfbf\">                    </span><span style=\"color: #008000; text-decoration-color: #008000\">INFO    </span> The validation estimator has been fit and will be returned.                <a href=\"file:///home/jakep/projects/caml/caml/core/_base.py\" target=\"_blank\"><span style=\"color: #7f7f7f; text-decoration-color: #7f7f7f\">_base.py</span></a><span style=\"color: #7f7f7f; text-decoration-color: #7f7f7f\">:</span><a href=\"file:///home/jakep/projects/caml/caml/core/_base.py#61\" target=\"_blank\"><span style=\"color: #7f7f7f; text-decoration-color: #7f7f7f\">61</span></a>\n",
       "</pre>\n"
      ],
      "text/plain": [
       "\u001b[2;36m                   \u001b[0m\u001b[2;36m \u001b[0m\u001b[32mINFO    \u001b[0m The validation estimator has been fit and will be returned.                \u001b]8;id=535081;file:///home/jakep/projects/caml/caml/core/_base.py\u001b\\\u001b[2m_base.py\u001b[0m\u001b]8;;\u001b\\\u001b[2m:\u001b[0m\u001b]8;id=734490;file:///home/jakep/projects/caml/caml/core/_base.py#61\u001b\\\u001b[2m61\u001b[0m\u001b]8;;\u001b\\\n"
      ]
     },
     "metadata": {},
     "output_type": "display_data"
    },
    {
     "data": {
      "text/plain": [
       "<econml.metalearners._metalearners.TLearner at 0x7f15330d6aa0>"
      ]
     },
     "execution_count": 188,
     "metadata": {},
     "output_type": "execute_result"
    }
   ],
   "source": [
    "caml.validation_estimator"
   ]
  },
  {
   "cell_type": "markdown",
   "metadata": {},
   "source": [
    "#### CATE Validation"
   ]
  },
  {
   "cell_type": "code",
   "execution_count": 189,
   "metadata": {},
   "outputs": [
    {
     "data": {
      "text/html": [
       "<pre style=\"white-space:pre;overflow-x:auto;line-height:normal;font-family:Menlo,'DejaVu Sans Mono',consolas,'Courier New',monospace\"><span style=\"color: #7fbfbf; text-decoration-color: #7fbfbf\">[12/15/24 20:03:30] </span><span style=\"color: #008000; text-decoration-color: #008000\">INFO    </span> All validation results suggest that the model has found statistically      <a href=\"file:///home/jakep/projects/caml/caml/core/cate.py\" target=\"_blank\"><span style=\"color: #7f7f7f; text-decoration-color: #7f7f7f\">cate.py</span></a><span style=\"color: #7f7f7f; text-decoration-color: #7f7f7f\">:</span><a href=\"file:///home/jakep/projects/caml/caml/core/cate.py#472\" target=\"_blank\"><span style=\"color: #7f7f7f; text-decoration-color: #7f7f7f\">472</span></a>\n",
       "<span style=\"color: #7fbfbf; text-decoration-color: #7fbfbf\">                    </span>         significant heterogeneity.                                                 <span style=\"color: #7f7f7f; text-decoration-color: #7f7f7f\">           </span>\n",
       "</pre>\n"
      ],
      "text/plain": [
       "\u001b[2;36m[12/15/24 20:03:30]\u001b[0m\u001b[2;36m \u001b[0m\u001b[32mINFO    \u001b[0m All validation results suggest that the model has found statistically      \u001b]8;id=282064;file:///home/jakep/projects/caml/caml/core/cate.py\u001b\\\u001b[2mcate.py\u001b[0m\u001b]8;;\u001b\\\u001b[2m:\u001b[0m\u001b]8;id=595059;file:///home/jakep/projects/caml/caml/core/cate.py#472\u001b\\\u001b[2m472\u001b[0m\u001b]8;;\u001b\\\n",
       "\u001b[2;36m                    \u001b[0m         significant heterogeneity.                                                 \u001b[2m           \u001b[0m\n"
      ]
     },
     "metadata": {},
     "output_type": "display_data"
    },
    {
     "name": "stdout",
     "output_type": "stream",
     "text": [
      "   treatment  blp_est  blp_se  blp_pval  qini_est  qini_se  qini_pval  autoc_est  autoc_se  autoc_pval  cal_r_squared\n",
      "0          1    1.013   0.005       0.0     6.543    0.365        0.0     26.061     1.766         0.0          0.967\n"
     ]
    },
    {
     "data": {
      "image/png": "[encoded data removed]",
      "text/plain": [
       "<Figure size 640x480 with 1 Axes>"
      ]
     },
     "metadata": {},
     "output_type": "display_data"
    },
    {
     "data": {
      "image/png": "[encoded data removed]",
      "text/plain": [
       "<Figure size 640x480 with 1 Axes>"
      ]
     },
     "metadata": {},
     "output_type": "display_data"
    },
    {
     "data": {
      "image/png": "[encoded data removed]",
      "text/plain": [
       "<Figure size 640x480 with 1 Axes>"
      ]
     },
     "metadata": {},
     "output_type": "display_data"
    }
   ],
   "source": [
    "validation_results = caml.validate(n_groups=4,n_bootstrap=100,print_full_report=True)"
   ]
  },
  {
   "cell_type": "markdown",
   "metadata": {},
   "source": [
    "#### Refit best estimator on full dataset"
   ]
  },
  {
   "cell_type": "code",
   "execution_count": 190,
   "metadata": {},
   "outputs": [],
   "source": [
    "caml.fit_final()"
   ]
  },
  {
   "cell_type": "code",
   "execution_count": 191,
   "metadata": {},
   "outputs": [
    {
     "data": {
      "text/html": [
       "<pre style=\"white-space:pre;overflow-x:auto;line-height:normal;font-family:Menlo,'DejaVu Sans Mono',consolas,'Courier New',monospace\"><span style=\"color: #7fbfbf; text-decoration-color: #7fbfbf\">[12/15/24 20:03:31] </span><span style=\"color: #008000; text-decoration-color: #008000\">INFO    </span> The final estimator has been fit on the entire dataset and will be         <a href=\"file:///home/jakep/projects/caml/caml/core/_base.py\" target=\"_blank\"><span style=\"color: #7f7f7f; text-decoration-color: #7f7f7f\">_base.py</span></a><span style=\"color: #7f7f7f; text-decoration-color: #7f7f7f\">:</span><a href=\"file:///home/jakep/projects/caml/caml/core/_base.py#71\" target=\"_blank\"><span style=\"color: #7f7f7f; text-decoration-color: #7f7f7f\">71</span></a>\n",
       "<span style=\"color: #7fbfbf; text-decoration-color: #7fbfbf\">                    </span>         returned.                                                                  <span style=\"color: #7f7f7f; text-decoration-color: #7f7f7f\">           </span>\n",
       "</pre>\n"
      ],
      "text/plain": [
       "\u001b[2;36m[12/15/24 20:03:31]\u001b[0m\u001b[2;36m \u001b[0m\u001b[32mINFO    \u001b[0m The final estimator has been fit on the entire dataset and will be         \u001b]8;id=118645;file:///home/jakep/projects/caml/caml/core/_base.py\u001b\\\u001b[2m_base.py\u001b[0m\u001b]8;;\u001b\\\u001b[2m:\u001b[0m\u001b]8;id=683356;file:///home/jakep/projects/caml/caml/core/_base.py#71\u001b\\\u001b[2m71\u001b[0m\u001b]8;;\u001b\\\n",
       "\u001b[2;36m                    \u001b[0m         returned.                                                                  \u001b[2m           \u001b[0m\n"
      ]
     },
     "metadata": {},
     "output_type": "display_data"
    },
    {
     "data": {
      "text/plain": [
       "<econml.metalearners._metalearners.TLearner at 0x7f15330a9d80>"
      ]
     },
     "execution_count": 191,
     "metadata": {},
     "output_type": "execute_result"
    }
   ],
   "source": [
    "caml.final_estimator"
   ]
  },
  {
   "cell_type": "markdown",
   "metadata": {},
   "source": [
    "#### Predict CATEs"
   ]
  },
  {
   "cell_type": "code",
   "execution_count": 192,
   "metadata": {},
   "outputs": [
    {
     "data": {
      "text/plain": [
       "array([ -3.83832344, -16.82219892,  -0.82421607, ..., -13.28251633,\n",
       "        -6.43660927,  -1.72116209])"
      ]
     },
     "execution_count": 192,
     "metadata": {},
     "output_type": "execute_result"
    }
   ],
   "source": [
    "## \"Out of sample\" predictions\n",
    "\n",
    "cate_predictions = caml.predict(T0=0,T1=1)\n",
    "\n",
    "cate_predictions"
   ]
  },
  {
   "cell_type": "markdown",
   "metadata": {},
   "source": [
    "#### CATE Visualization/Summary"
   ]
  },
  {
   "cell_type": "code",
   "execution_count": 193,
   "metadata": {},
   "outputs": [
    {
     "data": {
      "text/html": [
       "<div>\n",
       "<style scoped>\n",
       "    .dataframe tbody tr th:only-of-type {\n",
       "        vertical-align: middle;\n",
       "    }\n",
       "\n",
       "    .dataframe tbody tr th {\n",
       "        vertical-align: top;\n",
       "    }\n",
       "\n",
       "    .dataframe thead th {\n",
       "        text-align: right;\n",
       "    }\n",
       "</style>\n",
       "<table border=\"1\" class=\"dataframe\">\n",
       "  <thead>\n",
       "    <tr style=\"text-align: right;\">\n",
       "      <th></th>\n",
       "      <th>cate_predictions_0_1</th>\n",
       "    </tr>\n",
       "  </thead>\n",
       "  <tbody>\n",
       "    <tr>\n",
       "      <th>count</th>\n",
       "      <td>10000.000000</td>\n",
       "    </tr>\n",
       "    <tr>\n",
       "      <th>mean</th>\n",
       "      <td>4.899102</td>\n",
       "    </tr>\n",
       "    <tr>\n",
       "      <th>std</th>\n",
       "      <td>42.371674</td>\n",
       "    </tr>\n",
       "    <tr>\n",
       "      <th>min</th>\n",
       "      <td>-38.223703</td>\n",
       "    </tr>\n",
       "    <tr>\n",
       "      <th>25%</th>\n",
       "      <td>-12.925362</td>\n",
       "    </tr>\n",
       "    <tr>\n",
       "      <th>50%</th>\n",
       "      <td>-9.149481</td>\n",
       "    </tr>\n",
       "    <tr>\n",
       "      <th>75%</th>\n",
       "      <td>2.274296</td>\n",
       "    </tr>\n",
       "    <tr>\n",
       "      <th>max</th>\n",
       "      <td>722.867222</td>\n",
       "    </tr>\n",
       "  </tbody>\n",
       "</table>\n",
       "</div>"
      ],
      "text/plain": [
       "       cate_predictions_0_1\n",
       "count          10000.000000\n",
       "mean               4.899102\n",
       "std               42.371674\n",
       "min              -38.223703\n",
       "25%              -12.925362\n",
       "50%               -9.149481\n",
       "75%                2.274296\n",
       "max              722.867222"
      ]
     },
     "execution_count": 193,
     "metadata": {},
     "output_type": "execute_result"
    }
   ],
   "source": [
    "cate_summary = caml.summarize()\n",
    "\n",
    "cate_summary"
   ]
  },
  {
   "cell_type": "code",
   "execution_count": 194,
   "metadata": {},
   "outputs": [
    {
     "data": {
      "text/html": [
       "<div>\n",
       "<style scoped>\n",
       "    .dataframe tbody tr th:only-of-type {\n",
       "        vertical-align: middle;\n",
       "    }\n",
       "\n",
       "    .dataframe tbody tr th {\n",
       "        vertical-align: top;\n",
       "    }\n",
       "\n",
       "    .dataframe thead th {\n",
       "        text-align: right;\n",
       "    }\n",
       "</style>\n",
       "<table border=\"1\" class=\"dataframe\">\n",
       "  <thead>\n",
       "    <tr style=\"text-align: right;\">\n",
       "      <th></th>\n",
       "      <th>Treatment</th>\n",
       "      <th>ATE</th>\n",
       "    </tr>\n",
       "  </thead>\n",
       "  <tbody>\n",
       "    <tr>\n",
       "      <th>0</th>\n",
       "      <td>T1_binary_on_Y1_continuous</td>\n",
       "      <td>-13.5267</td>\n",
       "    </tr>\n",
       "  </tbody>\n",
       "</table>\n",
       "</div>"
      ],
      "text/plain": [
       "                    Treatment      ATE\n",
       "0  T1_binary_on_Y1_continuous -13.5267"
      ]
     },
     "execution_count": 194,
     "metadata": {},
     "output_type": "execute_result"
    }
   ],
   "source": [
    "ate_df"
   ]
  },
  {
   "cell_type": "markdown",
   "metadata": {},
   "source": [
    "#### Access my dataframe, estimator object, and get string representation of class"
   ]
  },
  {
   "cell_type": "code",
   "execution_count": 195,
   "metadata": {},
   "outputs": [
    {
     "data": {
      "text/html": [
       "<div>\n",
       "<style scoped>\n",
       "    .dataframe tbody tr th:only-of-type {\n",
       "        vertical-align: middle;\n",
       "    }\n",
       "\n",
       "    .dataframe tbody tr th {\n",
       "        vertical-align: top;\n",
       "    }\n",
       "\n",
       "    .dataframe thead th {\n",
       "        text-align: right;\n",
       "    }\n",
       "</style>\n",
       "<table border=\"1\" class=\"dataframe\">\n",
       "  <thead>\n",
       "    <tr style=\"text-align: right;\">\n",
       "      <th></th>\n",
       "      <th>W1_continuous</th>\n",
       "      <th>W2_continuous</th>\n",
       "      <th>W1_binary</th>\n",
       "      <th>X1_continuous</th>\n",
       "      <th>X2_continuous</th>\n",
       "      <th>X1_binary</th>\n",
       "      <th>T1_binary</th>\n",
       "      <th>Y1_continuous</th>\n",
       "    </tr>\n",
       "  </thead>\n",
       "  <tbody>\n",
       "    <tr>\n",
       "      <th>0</th>\n",
       "      <td>2.996031</td>\n",
       "      <td>1.833142</td>\n",
       "      <td>1</td>\n",
       "      <td>-2.318365</td>\n",
       "      <td>-0.889071</td>\n",
       "      <td>1</td>\n",
       "      <td>1</td>\n",
       "      <td>5.698096</td>\n",
       "    </tr>\n",
       "    <tr>\n",
       "      <th>1</th>\n",
       "      <td>1.084660</td>\n",
       "      <td>0.811684</td>\n",
       "      <td>0</td>\n",
       "      <td>-3.947338</td>\n",
       "      <td>-4.538094</td>\n",
       "      <td>0</td>\n",
       "      <td>1</td>\n",
       "      <td>-67.510466</td>\n",
       "    </tr>\n",
       "    <tr>\n",
       "      <th>2</th>\n",
       "      <td>1.551872</td>\n",
       "      <td>3.514753</td>\n",
       "      <td>1</td>\n",
       "      <td>-2.712781</td>\n",
       "      <td>-4.356513</td>\n",
       "      <td>0</td>\n",
       "      <td>1</td>\n",
       "      <td>-46.807338</td>\n",
       "    </tr>\n",
       "    <tr>\n",
       "      <th>3</th>\n",
       "      <td>1.488719</td>\n",
       "      <td>1.312660</td>\n",
       "      <td>1</td>\n",
       "      <td>-5.847153</td>\n",
       "      <td>-2.044083</td>\n",
       "      <td>0</td>\n",
       "      <td>1</td>\n",
       "      <td>-3.311405</td>\n",
       "    </tr>\n",
       "    <tr>\n",
       "      <th>4</th>\n",
       "      <td>3.932037</td>\n",
       "      <td>3.688375</td>\n",
       "      <td>1</td>\n",
       "      <td>-3.001796</td>\n",
       "      <td>-3.986808</td>\n",
       "      <td>0</td>\n",
       "      <td>1</td>\n",
       "      <td>-37.739799</td>\n",
       "    </tr>\n",
       "    <tr>\n",
       "      <th>...</th>\n",
       "      <td>...</td>\n",
       "      <td>...</td>\n",
       "      <td>...</td>\n",
       "      <td>...</td>\n",
       "      <td>...</td>\n",
       "      <td>...</td>\n",
       "      <td>...</td>\n",
       "      <td>...</td>\n",
       "    </tr>\n",
       "    <tr>\n",
       "      <th>9995</th>\n",
       "      <td>1.168482</td>\n",
       "      <td>7.503267</td>\n",
       "      <td>0</td>\n",
       "      <td>-4.596117</td>\n",
       "      <td>-2.361790</td>\n",
       "      <td>0</td>\n",
       "      <td>1</td>\n",
       "      <td>94.887914</td>\n",
       "    </tr>\n",
       "    <tr>\n",
       "      <th>9996</th>\n",
       "      <td>4.346783</td>\n",
       "      <td>1.878845</td>\n",
       "      <td>1</td>\n",
       "      <td>-5.297084</td>\n",
       "      <td>-3.215238</td>\n",
       "      <td>0</td>\n",
       "      <td>1</td>\n",
       "      <td>-30.937156</td>\n",
       "    </tr>\n",
       "    <tr>\n",
       "      <th>9997</th>\n",
       "      <td>0.889781</td>\n",
       "      <td>0.231083</td>\n",
       "      <td>1</td>\n",
       "      <td>-5.627272</td>\n",
       "      <td>-2.961529</td>\n",
       "      <td>0</td>\n",
       "      <td>1</td>\n",
       "      <td>-22.289016</td>\n",
       "    </tr>\n",
       "    <tr>\n",
       "      <th>9998</th>\n",
       "      <td>3.790647</td>\n",
       "      <td>0.399154</td>\n",
       "      <td>0</td>\n",
       "      <td>-2.683229</td>\n",
       "      <td>-1.265921</td>\n",
       "      <td>0</td>\n",
       "      <td>0</td>\n",
       "      <td>3.198673</td>\n",
       "    </tr>\n",
       "    <tr>\n",
       "      <th>9999</th>\n",
       "      <td>7.982585</td>\n",
       "      <td>2.975369</td>\n",
       "      <td>0</td>\n",
       "      <td>-5.148575</td>\n",
       "      <td>-3.480906</td>\n",
       "      <td>0</td>\n",
       "      <td>1</td>\n",
       "      <td>-31.013894</td>\n",
       "    </tr>\n",
       "  </tbody>\n",
       "</table>\n",
       "<p>10000 rows × 8 columns</p>\n",
       "</div>"
      ],
      "text/plain": [
       "      W1_continuous  W2_continuous  W1_binary  X1_continuous  X2_continuous  \\\n",
       "0          2.996031       1.833142          1      -2.318365      -0.889071   \n",
       "1          1.084660       0.811684          0      -3.947338      -4.538094   \n",
       "2          1.551872       3.514753          1      -2.712781      -4.356513   \n",
       "3          1.488719       1.312660          1      -5.847153      -2.044083   \n",
       "4          3.932037       3.688375          1      -3.001796      -3.986808   \n",
       "...             ...            ...        ...            ...            ...   \n",
       "9995       1.168482       7.503267          0      -4.596117      -2.361790   \n",
       "9996       4.346783       1.878845          1      -5.297084      -3.215238   \n",
       "9997       0.889781       0.231083          1      -5.627272      -2.961529   \n",
       "9998       3.790647       0.399154          0      -2.683229      -1.265921   \n",
       "9999       7.982585       2.975369          0      -5.148575      -3.480906   \n",
       "\n",
       "      X1_binary  T1_binary  Y1_continuous  \n",
       "0             1          1       5.698096  \n",
       "1             0          1     -67.510466  \n",
       "2             0          1     -46.807338  \n",
       "3             0          1      -3.311405  \n",
       "4             0          1     -37.739799  \n",
       "...         ...        ...            ...  \n",
       "9995          0          1      94.887914  \n",
       "9996          0          1     -30.937156  \n",
       "9997          0          1     -22.289016  \n",
       "9998          0          0       3.198673  \n",
       "9999          0          1     -31.013894  \n",
       "\n",
       "[10000 rows x 8 columns]"
      ]
     },
     "execution_count": 195,
     "metadata": {},
     "output_type": "execute_result"
    }
   ],
   "source": [
    "caml.df"
   ]
  },
  {
   "cell_type": "code",
   "execution_count": 196,
   "metadata": {},
   "outputs": [
    {
     "data": {
      "text/html": [
       "<pre style=\"white-space:pre;overflow-x:auto;line-height:normal;font-family:Menlo,'DejaVu Sans Mono',consolas,'Courier New',monospace\"><span style=\"color: #7fbfbf; text-decoration-color: #7fbfbf\">                    </span><span style=\"color: #008000; text-decoration-color: #008000\">INFO    </span> The final estimator has been fit on the entire dataset and will be         <a href=\"file:///home/jakep/projects/caml/caml/core/_base.py\" target=\"_blank\"><span style=\"color: #7f7f7f; text-decoration-color: #7f7f7f\">_base.py</span></a><span style=\"color: #7f7f7f; text-decoration-color: #7f7f7f\">:</span><a href=\"file:///home/jakep/projects/caml/caml/core/_base.py#71\" target=\"_blank\"><span style=\"color: #7f7f7f; text-decoration-color: #7f7f7f\">71</span></a>\n",
       "<span style=\"color: #7fbfbf; text-decoration-color: #7fbfbf\">                    </span>         returned.                                                                  <span style=\"color: #7f7f7f; text-decoration-color: #7f7f7f\">           </span>\n",
       "</pre>\n"
      ],
      "text/plain": [
       "\u001b[2;36m                   \u001b[0m\u001b[2;36m \u001b[0m\u001b[32mINFO    \u001b[0m The final estimator has been fit on the entire dataset and will be         \u001b]8;id=877588;file:///home/jakep/projects/caml/caml/core/_base.py\u001b\\\u001b[2m_base.py\u001b[0m\u001b]8;;\u001b\\\u001b[2m:\u001b[0m\u001b]8;id=1747;file:///home/jakep/projects/caml/caml/core/_base.py#71\u001b\\\u001b[2m71\u001b[0m\u001b]8;;\u001b\\\n",
       "\u001b[2;36m                    \u001b[0m         returned.                                                                  \u001b[2m           \u001b[0m\n"
      ]
     },
     "metadata": {},
     "output_type": "display_data"
    },
    {
     "name": "stdout",
     "output_type": "stream",
     "text": [
      "<econml.metalearners._metalearners.TLearner object at 0x7f15330a9d80>\n",
      "{'feature_names': ['W1_continuous', 'W2_continuous', 'W1_binary', 'X1_continuous', 'X2_continuous', 'X1_binary'], 'output_names': 'Y1_continuous', 'treatment_names': 'T1_binary'}\n"
     ]
    }
   ],
   "source": [
    "from econml.score import EnsembleCateEstimator\n",
    "\n",
    "# Use this estimator object as pickled object for optimized inference\n",
    "final_estimator = caml.final_estimator\n",
    "\n",
    "if isinstance(final_estimator, EnsembleCateEstimator):\n",
    "    for mod in final_estimator._cate_models:\n",
    "        print(mod)\n",
    "        print(mod._input_names)\n",
    "else:\n",
    "    print(final_estimator)\n",
    "    print(final_estimator._input_names)"
   ]
  },
  {
   "cell_type": "code",
   "execution_count": 197,
   "metadata": {},
   "outputs": [
    {
     "name": "stdout",
     "output_type": "stream",
     "text": [
      "================== CamlCATE Object ==================\n",
      "Data Backend: pandas\n",
      "No. of Observations: 10,000\n",
      "Outcome Variable: Y1_continuous\n",
      "Discrete Outcome: False\n",
      "Treatment Variable: T1_binary\n",
      "Discrete Treatment: True\n",
      "Features/Confounders for Heterogeneity (X): ['W1_continuous', 'W2_continuous', 'W1_binary', 'X1_continuous', 'X2_continuous', 'X1_binary']\n",
      "Features/Confounders as Controls (W): []\n",
      "Random Seed: 10\n",
      "Nuissance Model Y_X: ExtraTreesRegressor(max_features=0.8442539949256324, max_leaf_nodes=3642,\n",
      "                    n_estimators=95, n_jobs=-1, random_state=12032022)\n",
      "Propensity/Nuissance Model T_X: XGBClassifier(base_score=None, booster=None, callbacks=[],\n",
      "              colsample_bylevel=1.0, colsample_bynode=None,\n",
      "              colsample_bytree=0.9090904131765215, device=None,\n",
      "              early_stopping_rounds=None, enable_categorical=False,\n",
      "              eval_metric=None, feature_types=None, gamma=None,\n",
      "              grow_policy=None, importance_type=None,\n",
      "              interaction_constraints=None, learning_rate=0.055632328047950735,\n",
      "              max_bin=None, max_cat_threshold=None, max_cat_to_onehot=None,\n",
      "              max_delta_step=None, max_depth=3, max_leaves=None,\n",
      "              min_child_weight=0.3650701837354434, missing=nan,\n",
      "              monotone_constraints=None, multi_strategy=None, n_estimators=182,\n",
      "              n_jobs=-1, num_parallel_tree=None, random_state=None, ...)\n",
      "Regression Model Y_X_T: ExtraTreesRegressor(max_features=0.8726039377282522, max_leaf_nodes=4999,\n",
      "                    n_estimators=95, n_jobs=-1, random_state=12032022)\n",
      "Final Estimator: <econml.metalearners._metalearners.TLearner object at 0x7f15330a9d80>\n",
      "\n"
     ]
    }
   ],
   "source": [
    "print(caml)"
   ]
  },
  {
   "cell_type": "code",
   "execution_count": 198,
   "metadata": {},
   "outputs": [
    {
     "data": {
      "text/html": [
       "<div>\n",
       "<style scoped>\n",
       "    .dataframe tbody tr th:only-of-type {\n",
       "        vertical-align: middle;\n",
       "    }\n",
       "\n",
       "    .dataframe tbody tr th {\n",
       "        vertical-align: top;\n",
       "    }\n",
       "\n",
       "    .dataframe thead th {\n",
       "        text-align: right;\n",
       "    }\n",
       "</style>\n",
       "<table border=\"1\" class=\"dataframe\">\n",
       "  <thead>\n",
       "    <tr style=\"text-align: right;\">\n",
       "      <th></th>\n",
       "      <th>W1_continuous</th>\n",
       "      <th>W2_continuous</th>\n",
       "      <th>W1_binary</th>\n",
       "      <th>X1_continuous</th>\n",
       "      <th>X2_continuous</th>\n",
       "      <th>X1_binary</th>\n",
       "      <th>T1_binary</th>\n",
       "      <th>Y1_continuous</th>\n",
       "    </tr>\n",
       "  </thead>\n",
       "  <tbody>\n",
       "    <tr>\n",
       "      <th>0</th>\n",
       "      <td>2.996031</td>\n",
       "      <td>1.833142</td>\n",
       "      <td>1</td>\n",
       "      <td>-2.318365</td>\n",
       "      <td>-0.889071</td>\n",
       "      <td>1</td>\n",
       "      <td>1</td>\n",
       "      <td>5.698096</td>\n",
       "    </tr>\n",
       "    <tr>\n",
       "      <th>1</th>\n",
       "      <td>1.084660</td>\n",
       "      <td>0.811684</td>\n",
       "      <td>0</td>\n",
       "      <td>-3.947338</td>\n",
       "      <td>-4.538094</td>\n",
       "      <td>0</td>\n",
       "      <td>1</td>\n",
       "      <td>-67.510466</td>\n",
       "    </tr>\n",
       "    <tr>\n",
       "      <th>2</th>\n",
       "      <td>1.551872</td>\n",
       "      <td>3.514753</td>\n",
       "      <td>1</td>\n",
       "      <td>-2.712781</td>\n",
       "      <td>-4.356513</td>\n",
       "      <td>0</td>\n",
       "      <td>1</td>\n",
       "      <td>-46.807338</td>\n",
       "    </tr>\n",
       "    <tr>\n",
       "      <th>3</th>\n",
       "      <td>1.488719</td>\n",
       "      <td>1.312660</td>\n",
       "      <td>1</td>\n",
       "      <td>-5.847153</td>\n",
       "      <td>-2.044083</td>\n",
       "      <td>0</td>\n",
       "      <td>1</td>\n",
       "      <td>-3.311405</td>\n",
       "    </tr>\n",
       "    <tr>\n",
       "      <th>4</th>\n",
       "      <td>3.932037</td>\n",
       "      <td>3.688375</td>\n",
       "      <td>1</td>\n",
       "      <td>-3.001796</td>\n",
       "      <td>-3.986808</td>\n",
       "      <td>0</td>\n",
       "      <td>1</td>\n",
       "      <td>-37.739799</td>\n",
       "    </tr>\n",
       "    <tr>\n",
       "      <th>...</th>\n",
       "      <td>...</td>\n",
       "      <td>...</td>\n",
       "      <td>...</td>\n",
       "      <td>...</td>\n",
       "      <td>...</td>\n",
       "      <td>...</td>\n",
       "      <td>...</td>\n",
       "      <td>...</td>\n",
       "    </tr>\n",
       "    <tr>\n",
       "      <th>9995</th>\n",
       "      <td>1.168482</td>\n",
       "      <td>7.503267</td>\n",
       "      <td>0</td>\n",
       "      <td>-4.596117</td>\n",
       "      <td>-2.361790</td>\n",
       "      <td>0</td>\n",
       "      <td>1</td>\n",
       "      <td>94.887914</td>\n",
       "    </tr>\n",
       "    <tr>\n",
       "      <th>9996</th>\n",
       "      <td>4.346783</td>\n",
       "      <td>1.878845</td>\n",
       "      <td>1</td>\n",
       "      <td>-5.297084</td>\n",
       "      <td>-3.215238</td>\n",
       "      <td>0</td>\n",
       "      <td>1</td>\n",
       "      <td>-30.937156</td>\n",
       "    </tr>\n",
       "    <tr>\n",
       "      <th>9997</th>\n",
       "      <td>0.889781</td>\n",
       "      <td>0.231083</td>\n",
       "      <td>1</td>\n",
       "      <td>-5.627272</td>\n",
       "      <td>-2.961529</td>\n",
       "      <td>0</td>\n",
       "      <td>1</td>\n",
       "      <td>-22.289016</td>\n",
       "    </tr>\n",
       "    <tr>\n",
       "      <th>9998</th>\n",
       "      <td>3.790647</td>\n",
       "      <td>0.399154</td>\n",
       "      <td>0</td>\n",
       "      <td>-2.683229</td>\n",
       "      <td>-1.265921</td>\n",
       "      <td>0</td>\n",
       "      <td>0</td>\n",
       "      <td>3.198673</td>\n",
       "    </tr>\n",
       "    <tr>\n",
       "      <th>9999</th>\n",
       "      <td>7.982585</td>\n",
       "      <td>2.975369</td>\n",
       "      <td>0</td>\n",
       "      <td>-5.148575</td>\n",
       "      <td>-3.480906</td>\n",
       "      <td>0</td>\n",
       "      <td>1</td>\n",
       "      <td>-31.013894</td>\n",
       "    </tr>\n",
       "  </tbody>\n",
       "</table>\n",
       "<p>10000 rows × 8 columns</p>\n",
       "</div>"
      ],
      "text/plain": [
       "      W1_continuous  W2_continuous  W1_binary  X1_continuous  X2_continuous  \\\n",
       "0          2.996031       1.833142          1      -2.318365      -0.889071   \n",
       "1          1.084660       0.811684          0      -3.947338      -4.538094   \n",
       "2          1.551872       3.514753          1      -2.712781      -4.356513   \n",
       "3          1.488719       1.312660          1      -5.847153      -2.044083   \n",
       "4          3.932037       3.688375          1      -3.001796      -3.986808   \n",
       "...             ...            ...        ...            ...            ...   \n",
       "9995       1.168482       7.503267          0      -4.596117      -2.361790   \n",
       "9996       4.346783       1.878845          1      -5.297084      -3.215238   \n",
       "9997       0.889781       0.231083          1      -5.627272      -2.961529   \n",
       "9998       3.790647       0.399154          0      -2.683229      -1.265921   \n",
       "9999       7.982585       2.975369          0      -5.148575      -3.480906   \n",
       "\n",
       "      X1_binary  T1_binary  Y1_continuous  \n",
       "0             1          1       5.698096  \n",
       "1             0          1     -67.510466  \n",
       "2             0          1     -46.807338  \n",
       "3             0          1      -3.311405  \n",
       "4             0          1     -37.739799  \n",
       "...         ...        ...            ...  \n",
       "9995          0          1      94.887914  \n",
       "9996          0          1     -30.937156  \n",
       "9997          0          1     -22.289016  \n",
       "9998          0          0       3.198673  \n",
       "9999          0          1     -31.013894  \n",
       "\n",
       "[10000 rows x 8 columns]"
      ]
     },
     "execution_count": 198,
     "metadata": {},
     "output_type": "execute_result"
    }
   ],
   "source": [
    "df"
   ]
  },
  {
   "cell_type": "markdown",
   "metadata": {},
   "source": [
    "# Plots"
   ]
  },
  {
   "cell_type": "code",
   "execution_count": 199,
   "metadata": {},
   "outputs": [
    {
     "data": {
      "text/html": [
       "<div>\n",
       "<style scoped>\n",
       "    .dataframe tbody tr th:only-of-type {\n",
       "        vertical-align: middle;\n",
       "    }\n",
       "\n",
       "    .dataframe tbody tr th {\n",
       "        vertical-align: top;\n",
       "    }\n",
       "\n",
       "    .dataframe thead th {\n",
       "        text-align: right;\n",
       "    }\n",
       "</style>\n",
       "<table border=\"1\" class=\"dataframe\">\n",
       "  <thead>\n",
       "    <tr style=\"text-align: right;\">\n",
       "      <th></th>\n",
       "      <th>CATE_of_T1_binary_on_Y1_continuous</th>\n",
       "    </tr>\n",
       "  </thead>\n",
       "  <tbody>\n",
       "    <tr>\n",
       "      <th>0</th>\n",
       "      <td>-7.257272</td>\n",
       "    </tr>\n",
       "    <tr>\n",
       "      <th>1</th>\n",
       "      <td>-17.647557</td>\n",
       "    </tr>\n",
       "    <tr>\n",
       "      <th>2</th>\n",
       "      <td>-17.130521</td>\n",
       "    </tr>\n",
       "    <tr>\n",
       "      <th>3</th>\n",
       "      <td>-10.546072</td>\n",
       "    </tr>\n",
       "    <tr>\n",
       "      <th>4</th>\n",
       "      <td>-16.077816</td>\n",
       "    </tr>\n",
       "    <tr>\n",
       "      <th>...</th>\n",
       "      <td>...</td>\n",
       "    </tr>\n",
       "    <tr>\n",
       "      <th>9995</th>\n",
       "      <td>-11.450715</td>\n",
       "    </tr>\n",
       "    <tr>\n",
       "      <th>9996</th>\n",
       "      <td>-13.880836</td>\n",
       "    </tr>\n",
       "    <tr>\n",
       "      <th>9997</th>\n",
       "      <td>-13.158422</td>\n",
       "    </tr>\n",
       "    <tr>\n",
       "      <th>9998</th>\n",
       "      <td>-8.330320</td>\n",
       "    </tr>\n",
       "    <tr>\n",
       "      <th>9999</th>\n",
       "      <td>-14.637303</td>\n",
       "    </tr>\n",
       "  </tbody>\n",
       "</table>\n",
       "<p>10000 rows × 1 columns</p>\n",
       "</div>"
      ],
      "text/plain": [
       "      CATE_of_T1_binary_on_Y1_continuous\n",
       "0                              -7.257272\n",
       "1                             -17.647557\n",
       "2                             -17.130521\n",
       "3                             -10.546072\n",
       "4                             -16.077816\n",
       "...                                  ...\n",
       "9995                          -11.450715\n",
       "9996                          -13.880836\n",
       "9997                          -13.158422\n",
       "9998                           -8.330320\n",
       "9999                          -14.637303\n",
       "\n",
       "[10000 rows x 1 columns]"
      ]
     },
     "execution_count": 199,
     "metadata": {},
     "output_type": "execute_result"
    }
   ],
   "source": [
    "cate_df"
   ]
  },
  {
   "cell_type": "code",
   "execution_count": 200,
   "metadata": {},
   "outputs": [],
   "source": [
    "from caml.extensions.plots import (cate_histogram_plot, \n",
    "                                   cate_true_vs_estimated_plot, \n",
    "                                   cate_line_plot)\n",
    "\n",
    "df['cate_predictions'] = cate_predictions\n",
    "df['true_cates'] = cate_df.iloc[:,0]"
   ]
  },
  {
   "cell_type": "code",
   "execution_count": 201,
   "metadata": {},
   "outputs": [
    {
     "data": {
      "image/png": "[encoded data removed]",
      "text/plain": [
       "<Figure size 640x480 with 1 Axes>"
      ]
     },
     "execution_count": 201,
     "metadata": {},
     "output_type": "execute_result"
    }
   ],
   "source": [
    "cate_true_vs_estimated_plot(true_cates=df['true_cates'],estimated_cates=df['cate_predictions'])"
   ]
  },
  {
   "cell_type": "code",
   "execution_count": 202,
   "metadata": {},
   "outputs": [
    {
     "data": {
      "image/png": "[encoded data removed]",
      "text/plain": [
       "<Figure size 640x480 with 1 Axes>"
      ]
     },
     "execution_count": 202,
     "metadata": {},
     "output_type": "execute_result"
    }
   ],
   "source": [
    "cate_histogram_plot(estimated_cates=df['cate_predictions'])"
   ]
  },
  {
   "cell_type": "code",
   "execution_count": 203,
   "metadata": {},
   "outputs": [
    {
     "data": {
      "image/png": "[encoded data removed]",
      "text/plain": [
       "<Figure size 640x480 with 1 Axes>"
      ]
     },
     "execution_count": 203,
     "metadata": {},
     "output_type": "execute_result"
    }
   ],
   "source": [
    "cate_histogram_plot(estimated_cates=df['cate_predictions'],true_cates=df['true_cates'])"
   ]
  },
  {
   "cell_type": "code",
   "execution_count": 204,
   "metadata": {},
   "outputs": [
    {
     "data": {
      "image/png": "[encoded data removed]",
      "text/plain": [
       "<Figure size 640x480 with 1 Axes>"
      ]
     },
     "execution_count": 204,
     "metadata": {},
     "output_type": "execute_result"
    }
   ],
   "source": [
    "cate_line_plot(estimated_cates=df['cate_predictions'],window=30)"
   ]
  },
  {
   "cell_type": "code",
   "execution_count": 205,
   "metadata": {},
   "outputs": [
    {
     "data": {
      "image/png": "[encoded data removed]",
      "text/plain": [
       "<Figure size 640x480 with 1 Axes>"
      ]
     },
     "execution_count": 205,
     "metadata": {},
     "output_type": "execute_result"
    }
   ],
   "source": [
    "cate_line_plot(estimated_cates=df['cate_predictions'],true_cates=df['true_cates'],window=30)"
   ]
  }
 ],
 "metadata": {
  "kernelspec": {
   "display_name": "Python (caml)",
   "language": "python",
   "name": "caml"
  },
  "language_info": {
   "codemirror_mode": {
    "name": "ipython",
    "version": 3
   },
   "file_extension": ".py",
   "mimetype": "text/x-python",
   "name": "python",
   "nbconvert_exporter": "python",
   "pygments_lexer": "ipython3",
   "version": "3.10.12"
  }
 },
 "nbformat": 4,
 "nbformat_minor": 4
}
