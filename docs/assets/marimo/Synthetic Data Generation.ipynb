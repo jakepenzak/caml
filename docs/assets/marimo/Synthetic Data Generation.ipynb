{
 "cells": [
  {
   "cell_type": "code",
   "execution_count": null,
   "id": "Hbol",
   "metadata": {
    "marimo": {
     "config": {
      "hide_code": true
     }
    }
   },
   "outputs": [],
   "source": []
  },
  {
   "cell_type": "markdown",
   "id": "MJUe",
   "metadata": {},
   "source": [
    "# Caml Synthetic Data API Usage"
   ]
  },
  {
   "cell_type": "code",
   "execution_count": null,
   "id": "vblA",
   "metadata": {},
   "outputs": [],
   "source": [
    "from caml.extensions.synthetic_data import CamlSyntheticDataGenerator"
   ]
  },
  {
   "cell_type": "markdown",
   "id": "bkHC",
   "metadata": {},
   "source": [
    "## Generate Data"
   ]
  },
  {
   "cell_type": "code",
   "execution_count": null,
   "id": "lEQa",
   "metadata": {},
   "outputs": [],
   "source": [
    "data = CamlSyntheticDataGenerator(\n",
    "    n_obs=10_000,\n",
    "    n_cont_outcomes=1,\n",
    "    n_binary_outcomes=1,\n",
    "    n_cont_treatments=1,\n",
    "    n_binary_treatments=1,\n",
    "    n_discrete_treatments=1,\n",
    "    n_cont_confounders=1,\n",
    "    n_binary_confounders=1,\n",
    "    n_discrete_confounders=1,\n",
    "    n_cont_heterogeneity_covariates=1,\n",
    "    n_binary_heterogeneity_covariates=1,\n",
    "    n_discrete_heterogeneity_covariates=1,\n",
    "    n_heterogeneity_confounders=1,\n",
    "    stddev_outcome_noise=3,\n",
    "    stddev_treatment_noise=3,\n",
    "    causal_model_functional_form=\"fully_nonlinear\",\n",
    "    n_nonlinear_transformations=10,\n",
    "    n_nonlinear_interactions=5,\n",
    "    seed=15,\n",
    ")"
   ]
  },
  {
   "cell_type": "markdown",
   "id": "PKri",
   "metadata": {},
   "source": [
    "## Simulated Dataframe"
   ]
  },
  {
   "cell_type": "code",
   "execution_count": null,
   "id": "Xref",
   "metadata": {},
   "outputs": [],
   "source": [
    "data.df"
   ]
  },
  {
   "cell_type": "markdown",
   "id": "SFPL",
   "metadata": {},
   "source": [
    "## DGP"
   ]
  },
  {
   "cell_type": "code",
   "execution_count": null,
   "id": "BYtC",
   "metadata": {},
   "outputs": [],
   "source": [
    "data.dgp"
   ]
  },
  {
   "cell_type": "markdown",
   "id": "RGSE",
   "metadata": {},
   "source": [
    "## True Conditional Average Treatment Effects (CATEs)"
   ]
  },
  {
   "cell_type": "code",
   "execution_count": null,
   "id": "Kclp",
   "metadata": {},
   "outputs": [],
   "source": [
    "data.cates"
   ]
  },
  {
   "cell_type": "markdown",
   "id": "emfo",
   "metadata": {},
   "source": [
    "## True Average Treatment Effects (ATEs)"
   ]
  },
  {
   "cell_type": "code",
   "execution_count": null,
   "id": "Hstk",
   "metadata": {},
   "outputs": [],
   "source": [
    "data.ates"
   ]
  }
 ],
 "metadata": {},
 "nbformat": 4,
 "nbformat_minor": 5
}
